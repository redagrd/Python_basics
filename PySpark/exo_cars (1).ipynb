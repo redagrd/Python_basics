{
 "cells": [
  {
   "cell_type": "markdown",
   "id": "4839564b-b8c4-451f-a669-86d38b03ebe8",
   "metadata": {},
   "source": [
    "## Imports"
   ]
  },
  {
   "cell_type": "code",
   "execution_count": 2,
   "id": "1aacc9c4-641d-408c-91c0-657c63ad2aaf",
   "metadata": {
    "tags": []
   },
   "outputs": [
    {
     "data": {
      "text/plain": [
       "['Catalog',\n",
       " 'Column',\n",
       " 'DataFrame',\n",
       " 'DataFrameNaFunctions',\n",
       " 'DataFrameReader',\n",
       " 'DataFrameStatFunctions',\n",
       " 'DataFrameWriter',\n",
       " 'DataFrameWriterV2',\n",
       " 'GroupedData',\n",
       " 'HiveContext',\n",
       " 'Observation',\n",
       " 'PandasCogroupedOps',\n",
       " 'Row',\n",
       " 'SQLContext',\n",
       " 'SparkSession',\n",
       " 'UDFRegistration',\n",
       " 'Window',\n",
       " 'WindowSpec',\n",
       " '__all__',\n",
       " '__builtins__',\n",
       " '__cached__',\n",
       " '__doc__',\n",
       " '__file__',\n",
       " '__loader__',\n",
       " '__name__',\n",
       " '__package__',\n",
       " '__path__',\n",
       " '__spec__',\n",
       " 'catalog',\n",
       " 'column',\n",
       " 'conf',\n",
       " 'context',\n",
       " 'dataframe',\n",
       " 'functions',\n",
       " 'group',\n",
       " 'observation',\n",
       " 'pandas',\n",
       " 'readwriter',\n",
       " 'session',\n",
       " 'sql_formatter',\n",
       " 'streaming',\n",
       " 'types',\n",
       " 'udf',\n",
       " 'utils',\n",
       " 'window']"
      ]
     },
     "execution_count": 2,
     "metadata": {},
     "output_type": "execute_result"
    }
   ],
   "source": [
    "import pyspark.sql\n",
    "from pyspark.sql import *\n",
    "from pyspark.sql.functions import *\n",
    "\n",
    "dir(pyspark.sql)"
   ]
  },
  {
   "cell_type": "code",
   "execution_count": 3,
   "id": "8362edcd-ff70-4b30-8e0e-8c82b184d965",
   "metadata": {
    "tags": []
   },
   "outputs": [],
   "source": [
    "spark = SparkSession.builder.getOrCreate() # on crée la session"
   ]
  },
  {
   "cell_type": "code",
   "execution_count": 17,
   "id": "0c3f8157-739e-4ecd-a643-533b99391e6d",
   "metadata": {
    "tags": []
   },
   "outputs": [],
   "source": [
    "data = spark.read.options(delimiter=\";\").csv(\"car.csv\", header=True, inferSchema=True)"
   ]
  },
  {
   "cell_type": "code",
   "execution_count": 18,
   "id": "a660842f-d8e9-4a6e-9a17-a9f214627804",
   "metadata": {
    "tags": []
   },
   "outputs": [
    {
     "name": "stdout",
     "output_type": "stream",
     "text": [
      "+----------+------------+---------+--------------------+---------------+-----------+-------+-------+--------------+---------+-----------------+-----------+-----------+-----------+---+-----------+-----------+-----------+-----------+-----+---------------+---------------+--------------------+--------+-----------+---------+----+----+----+----+\n",
      "|   lib_mrq|lib_mod_doss|  lib_mod|               dscom|           cnit|        tvv|cod_cbr|hybride|puiss_admin_98|puiss_max|typ_boite_nb_rapp|  conso_urb|conso_exurb|conso_mixte|co2|   co_typ_1|         hc|        nox|      hcnox| ptcl|masse_ordma_min|masse_ordma_max|            champ_v9|date_maj|Carrosserie|    gamme|_c26|_c27|_c28|_c29|\n",
      "+----------+------------+---------+--------------------+---------------+-----------+-------+-------+--------------+---------+-----------------+-----------+-----------+-----------+---+-----------+-----------+-----------+-----------+-----+---------------+---------------+--------------------+--------+-----------+---------+----+----+----+----+\n",
      "|ALFA-ROMEO|         159|      159|159 1750 Tbi (200ch)|M10ALFVP000G340|939AXN1B52C|     ES|    non|            12|      147|              M 6|11,30000019|5,800000191|7,800000191|182|0,647000015|0,052000001|0,032000002|       null|0,002|           1505|           1505|715/2007*692/2008...| mars-14|    BERLINE|MOY-SUPER|null|null|null|null|\n",
      "|ALFA-ROMEO|         159|      159|159 1750 Tbi (200ch)|M10ALFVP000H341|939BXN1B53C|     ES|    non|            12|      147|              M 6|       11,5|          6|          8|186|0,647000015|0,052000001|0,032000002|       null|0,002|           1555|           1555|715/2007*692/2008...| mars-14|    BERLINE|MOY-SUPER|null|null|null|null|\n",
      "|ALFA-ROMEO|         159|      159|159 2.0 JTDm (136ch)|M10ALFVP000E302| 939AXR1B64|     GO|    non|             7|      100|              M 6|6,599999905|4,199999809|5,099999905|134|      0,066|       null|0,149000004|0,174999997|0,001|           1565|           1565|715/2007*692/2008...| mars-14|    BERLINE|MOY-SUPER|null|null|null|null|\n",
      "|ALFA-ROMEO|         159|      159|159 2.0 JTDm (136ch)|M10ALFVP000F303|939AXR1B64B|     GO|    non|             7|      100|              M 6|6,599999905|4,199999809|5,099999905|134|      0,066|       null|0,149000004|0,174999997|0,001|           1565|           1565|715/2007*692/2008...| mars-14|    BERLINE|MOY-SUPER|null|null|null|null|\n",
      "|ALFA-ROMEO|         159|      159|159 2.0 JTDm (170ch)|M10ALFVP000G304| 939AXS1B66|     GO|    non|             9|      125|              M 6|6,900000095|4,300000191|5,300000191|139|0,059999999|       null|0,164000005|0,193000004|0,001|           1565|           1565|715/2007*692/2008...| mars-14|    BERLINE|MOY-SUPER|null|null|null|null|\n",
      "|ALFA-ROMEO|         159|      159|159 2.0 JTDm (170ch)|M10ALFVP000H305|939AXS1B66B|     GO|    non|             9|      125|              M 6|6,900000095|4,300000191|5,300000191|139|0,059999999|       null|0,164000005|0,193000004|0,001|           1565|           1565|715/2007*692/2008...| mars-14|    BERLINE|MOY-SUPER|null|null|null|null|\n",
      "|ALFA-ROMEO|         159|      159|159 2.0 JTDm (170...|M10ALFVP000U221|939AXP1B54C|     GO|    non|             9|      125|              M 6|6,599999905|4,300000191|5,099999905|136|0,192000002|       null|      0,169|0,189999998|0,003|           1565|           1565|715/2007*692/2008...| mars-14|    BERLINE|MOY-SUPER|null|null|null|null|\n",
      "|ALFA-ROMEO|         159|      159|159 SW 2.0 JTDm (...|M10ALFVP000J306| 939BXR1B65|     GO|    non|             7|      100|              M 6|6,800000191|4,300000191|5,199999809|137|      0,066|       null|0,149000004|0,174999997|0,001|           1615|           1615|715/2007*692/2008...| mars-14|      BREAK|MOY-SUPER|null|null|null|null|\n",
      "|ALFA-ROMEO|         159|      159|159 SW 2.0 JTDm (...|M10ALFVP000J307|939BXR1B65B|     GO|    non|             7|      100|              M 6|6,800000191|4,300000191|5,199999809|137|      0,066|       null|0,149000004|0,174999997|0,001|           1615|           1615|715/2007*692/2008...| mars-14|      BREAK|MOY-SUPER|null|null|null|null|\n",
      "|ALFA-ROMEO|         159|      159|159 SW 2.0 JTDm (...|M10ALFVP000K308| 939BXS1B67|     GO|    non|             9|      125|              M 6|7,099999905|4,400000095|5,400000095|142|0,059999999|       null|0,164000005|0,193000004|0,001|           1615|           1615|715/2007*692/2008...| mars-14|      BREAK|MOY-SUPER|null|null|null|null|\n",
      "|ALFA-ROMEO|         159|      159|159 SW 2.0 JTDm (...|M10ALFVP000L309|939BXS1B67B|     GO|    non|             9|      125|              M 6|7,099999905|4,400000095|5,400000095|142|0,059999999|       null|0,164000005|0,193000004|0,001|           1615|           1615|715/2007*692/2008...| mars-14|      BREAK|MOY-SUPER|null|null|null|null|\n",
      "|ALFA-ROMEO|         159|      159|159 SW 2.0 JTDm (...|M10ALFVP000S255|939BXP1B55C|     GO|    non|             9|      125|              M 6|6,699999809|4,400000095|5,199999809|139|0,192000002|       null|      0,169|0,189999998|0,003|           1615|           1615|715/2007*692/2008...| mars-14|      BREAK|MOY-SUPER|null|null|null|null|\n",
      "|ALFA-ROMEO|          4C|       4C|                  4C|M10ALFVP000S413| 960CXB1A01|     ES|    non|            14|      177|              A 6|9,800000191|          5|6,800000191|157|0,404000014|      0,044|0,037999999|       null|0,003|            995|            995|715/2007*195/2013...| mars-14|      COUPE|     LUXE|null|null|null|null|\n",
      "|ALFA-ROMEO| AR8C SPIDER|8C SPIDER|           8C SPIDER|M10ALFVP0005293|920BXA1A00B|     ES|    non|            38|      331|              M 6|24,39999962|11,60000038|16,29999924|379|0,500999987|0,037999999|0,027000001|       null| null|           1750|           1750|715/2007*692/2008...| mars-14|  CABRIOLET|     LUXE|null|null|null|null|\n",
      "|ALFA-ROMEO| AR8C SPIDER|8C SPIDER|           8C SPIDER|M10ALFVP0006039| 920BXA1A00|     ES|    non|            38|      331|              M 6|24,39999962|11,60000038|16,29999924|379|0,500999987|0,037999999|0,027000001|       null| null|           1750|           1750|715/2007*692/2008...| mars-14|  CABRIOLET|     LUXE|null|null|null|null|\n",
      "|ALFA-ROMEO|       BRERA|    BRERA|BRERA 1750 TBI (2...|M10ALFVP0003266| 939DXN1B56|     ES|    non|            12|      147|              M 6|11,80000019|          6|8,100000381|189|0,601000011|0,059999999|0,039999999|       null|0,003|           1505|           1505|715/2007*692/2008...| mars-14|      COUPE|MOY-SUPER|null|null|null|null|\n",
      "|ALFA-ROMEO|       BRERA|    BRERA|BRERA 1750 TBI (2...|M10ALFVP0004267|939DXN1B56B|     ES|    non|            12|      147|              M 6|11,80000019|          6|8,100000381|189|0,601000011|0,059999999|0,039999999|       null|0,003|           1505|           1505|715/2007*692/2008...| mars-14|      COUPE|MOY-SUPER|null|null|null|null|\n",
      "|ALFA-ROMEO|       BRERA|    BRERA|BRERA 2.0 JTDm (1...|M10ALFVP0005268| 939DXP1B58|     GO|    non|             9|      125|              M 6|7,099999905|4,400000095|5,400000095|142|0,188999996|       null|0,155000001|0,180000007|0,002|           1555|           1555|715/2007*692/2008...| mars-14|      COUPE|MOY-SUPER|null|null|null|null|\n",
      "|ALFA-ROMEO|       BRERA|    BRERA|BRERA 2.0 JTDm (1...|M10ALFVP0006269|939DXP1B58B|     GO|    non|             9|      125|              M 6|7,099999905|4,400000095|5,400000095|142|0,188999996|       null|0,155000001|0,180000007|0,002|           1555|           1555|715/2007*692/2008...| mars-14|      COUPE|MOY-SUPER|null|null|null|null|\n",
      "|ALFA-ROMEO|       BRERA|    BRERA|BRERA 2.0 JTDm (1...|M10ALFVP0007270| 939DXQ1B60|     GO|    non|             9|      120|              M 6|7,099999905|4,400000095|5,400000095|142|0,188999996|       null|0,155000001|0,180000007|0,002|           1555|           1555|715/2007*692/2008...| mars-14|      COUPE|MOY-SUPER|null|null|null|null|\n",
      "+----------+------------+---------+--------------------+---------------+-----------+-------+-------+--------------+---------+-----------------+-----------+-----------+-----------+---+-----------+-----------+-----------+-----------+-----+---------------+---------------+--------------------+--------+-----------+---------+----+----+----+----+\n",
      "only showing top 20 rows\n",
      "\n"
     ]
    }
   ],
   "source": [
    "data.createOrReplaceTempView(\"demo\")\n",
    "request = spark.sql(\"select * from demo\")\n",
    "request.show()"
   ]
  },
  {
   "cell_type": "code",
   "execution_count": 6,
   "id": "6f818fc8-7cab-4ce5-aa73-e7bc861f9be7",
   "metadata": {
    "tags": []
   },
   "outputs": [
    {
     "name": "stdout",
     "output_type": "stream",
     "text": [
      "+----------+------------+---------+--------------------+---------------+-----------+-------+-------+--------------+---------+-----------------+-----------+-----------+-----------+---+-----------+-----------+-----------+-----------+-----+---------------+---------------+--------------------+--------+-----------+---------+----+----+----+----+\n",
      "|   lib_mrq|lib_mod_doss|  lib_mod|               dscom|           cnit|        tvv|cod_cbr|hybride|puiss_admin_98|puiss_max|typ_boite_nb_rapp|  conso_urb|conso_exurb|conso_mixte|co2|   co_typ_1|         hc|        nox|      hcnox| ptcl|masse_ordma_min|masse_ordma_max|            champ_v9|date_maj|Carrosserie|    gamme|_c26|_c27|_c28|_c29|\n",
      "+----------+------------+---------+--------------------+---------------+-----------+-------+-------+--------------+---------+-----------------+-----------+-----------+-----------+---+-----------+-----------+-----------+-----------+-----+---------------+---------------+--------------------+--------+-----------+---------+----+----+----+----+\n",
      "|ALFA-ROMEO|         159|      159|159 1750 Tbi (200ch)|M10ALFVP000G340|939AXN1B52C|     ES|    non|            12|      147|              M 6|11,30000019|5,800000191|7,800000191|182|0,647000015|0,052000001|0,032000002|       null|0,002|           1505|           1505|715/2007*692/2008...| mars-14|    BERLINE|MOY-SUPER|null|null|null|null|\n",
      "|ALFA-ROMEO|         159|      159|159 1750 Tbi (200ch)|M10ALFVP000H341|939BXN1B53C|     ES|    non|            12|      147|              M 6|       11,5|          6|          8|186|0,647000015|0,052000001|0,032000002|       null|0,002|           1555|           1555|715/2007*692/2008...| mars-14|    BERLINE|MOY-SUPER|null|null|null|null|\n",
      "|ALFA-ROMEO|         159|      159|159 2.0 JTDm (136ch)|M10ALFVP000E302| 939AXR1B64|     GO|    non|             7|      100|              M 6|6,599999905|4,199999809|5,099999905|134|      0,066|       null|0,149000004|0,174999997|0,001|           1565|           1565|715/2007*692/2008...| mars-14|    BERLINE|MOY-SUPER|null|null|null|null|\n",
      "|ALFA-ROMEO|         159|      159|159 2.0 JTDm (136ch)|M10ALFVP000F303|939AXR1B64B|     GO|    non|             7|      100|              M 6|6,599999905|4,199999809|5,099999905|134|      0,066|       null|0,149000004|0,174999997|0,001|           1565|           1565|715/2007*692/2008...| mars-14|    BERLINE|MOY-SUPER|null|null|null|null|\n",
      "|ALFA-ROMEO|         159|      159|159 2.0 JTDm (170ch)|M10ALFVP000G304| 939AXS1B66|     GO|    non|             9|      125|              M 6|6,900000095|4,300000191|5,300000191|139|0,059999999|       null|0,164000005|0,193000004|0,001|           1565|           1565|715/2007*692/2008...| mars-14|    BERLINE|MOY-SUPER|null|null|null|null|\n",
      "|ALFA-ROMEO|         159|      159|159 2.0 JTDm (170ch)|M10ALFVP000H305|939AXS1B66B|     GO|    non|             9|      125|              M 6|6,900000095|4,300000191|5,300000191|139|0,059999999|       null|0,164000005|0,193000004|0,001|           1565|           1565|715/2007*692/2008...| mars-14|    BERLINE|MOY-SUPER|null|null|null|null|\n",
      "|ALFA-ROMEO|         159|      159|159 2.0 JTDm (170...|M10ALFVP000U221|939AXP1B54C|     GO|    non|             9|      125|              M 6|6,599999905|4,300000191|5,099999905|136|0,192000002|       null|      0,169|0,189999998|0,003|           1565|           1565|715/2007*692/2008...| mars-14|    BERLINE|MOY-SUPER|null|null|null|null|\n",
      "|ALFA-ROMEO|         159|      159|159 SW 2.0 JTDm (...|M10ALFVP000J306| 939BXR1B65|     GO|    non|             7|      100|              M 6|6,800000191|4,300000191|5,199999809|137|      0,066|       null|0,149000004|0,174999997|0,001|           1615|           1615|715/2007*692/2008...| mars-14|      BREAK|MOY-SUPER|null|null|null|null|\n",
      "|ALFA-ROMEO|         159|      159|159 SW 2.0 JTDm (...|M10ALFVP000J307|939BXR1B65B|     GO|    non|             7|      100|              M 6|6,800000191|4,300000191|5,199999809|137|      0,066|       null|0,149000004|0,174999997|0,001|           1615|           1615|715/2007*692/2008...| mars-14|      BREAK|MOY-SUPER|null|null|null|null|\n",
      "|ALFA-ROMEO|         159|      159|159 SW 2.0 JTDm (...|M10ALFVP000K308| 939BXS1B67|     GO|    non|             9|      125|              M 6|7,099999905|4,400000095|5,400000095|142|0,059999999|       null|0,164000005|0,193000004|0,001|           1615|           1615|715/2007*692/2008...| mars-14|      BREAK|MOY-SUPER|null|null|null|null|\n",
      "|ALFA-ROMEO|         159|      159|159 SW 2.0 JTDm (...|M10ALFVP000L309|939BXS1B67B|     GO|    non|             9|      125|              M 6|7,099999905|4,400000095|5,400000095|142|0,059999999|       null|0,164000005|0,193000004|0,001|           1615|           1615|715/2007*692/2008...| mars-14|      BREAK|MOY-SUPER|null|null|null|null|\n",
      "|ALFA-ROMEO|         159|      159|159 SW 2.0 JTDm (...|M10ALFVP000S255|939BXP1B55C|     GO|    non|             9|      125|              M 6|6,699999809|4,400000095|5,199999809|139|0,192000002|       null|      0,169|0,189999998|0,003|           1615|           1615|715/2007*692/2008...| mars-14|      BREAK|MOY-SUPER|null|null|null|null|\n",
      "|ALFA-ROMEO|          4C|       4C|                  4C|M10ALFVP000S413| 960CXB1A01|     ES|    non|            14|      177|              A 6|9,800000191|          5|6,800000191|157|0,404000014|      0,044|0,037999999|       null|0,003|            995|            995|715/2007*195/2013...| mars-14|      COUPE|     LUXE|null|null|null|null|\n",
      "|ALFA-ROMEO| AR8C SPIDER|8C SPIDER|           8C SPIDER|M10ALFVP0005293|920BXA1A00B|     ES|    non|            38|      331|              M 6|24,39999962|11,60000038|16,29999924|379|0,500999987|0,037999999|0,027000001|       null| null|           1750|           1750|715/2007*692/2008...| mars-14|  CABRIOLET|     LUXE|null|null|null|null|\n",
      "|ALFA-ROMEO| AR8C SPIDER|8C SPIDER|           8C SPIDER|M10ALFVP0006039| 920BXA1A00|     ES|    non|            38|      331|              M 6|24,39999962|11,60000038|16,29999924|379|0,500999987|0,037999999|0,027000001|       null| null|           1750|           1750|715/2007*692/2008...| mars-14|  CABRIOLET|     LUXE|null|null|null|null|\n",
      "|ALFA-ROMEO|       BRERA|    BRERA|BRERA 1750 TBI (2...|M10ALFVP0003266| 939DXN1B56|     ES|    non|            12|      147|              M 6|11,80000019|          6|8,100000381|189|0,601000011|0,059999999|0,039999999|       null|0,003|           1505|           1505|715/2007*692/2008...| mars-14|      COUPE|MOY-SUPER|null|null|null|null|\n",
      "|ALFA-ROMEO|       BRERA|    BRERA|BRERA 1750 TBI (2...|M10ALFVP0004267|939DXN1B56B|     ES|    non|            12|      147|              M 6|11,80000019|          6|8,100000381|189|0,601000011|0,059999999|0,039999999|       null|0,003|           1505|           1505|715/2007*692/2008...| mars-14|      COUPE|MOY-SUPER|null|null|null|null|\n",
      "|ALFA-ROMEO|       BRERA|    BRERA|BRERA 2.0 JTDm (1...|M10ALFVP0005268| 939DXP1B58|     GO|    non|             9|      125|              M 6|7,099999905|4,400000095|5,400000095|142|0,188999996|       null|0,155000001|0,180000007|0,002|           1555|           1555|715/2007*692/2008...| mars-14|      COUPE|MOY-SUPER|null|null|null|null|\n",
      "|ALFA-ROMEO|       BRERA|    BRERA|BRERA 2.0 JTDm (1...|M10ALFVP0006269|939DXP1B58B|     GO|    non|             9|      125|              M 6|7,099999905|4,400000095|5,400000095|142|0,188999996|       null|0,155000001|0,180000007|0,002|           1555|           1555|715/2007*692/2008...| mars-14|      COUPE|MOY-SUPER|null|null|null|null|\n",
      "|ALFA-ROMEO|       BRERA|    BRERA|BRERA 2.0 JTDm (1...|M10ALFVP0007270| 939DXQ1B60|     GO|    non|             9|      120|              M 6|7,099999905|4,400000095|5,400000095|142|0,188999996|       null|0,155000001|0,180000007|0,002|           1555|           1555|715/2007*692/2008...| mars-14|      COUPE|MOY-SUPER|null|null|null|null|\n",
      "+----------+------------+---------+--------------------+---------------+-----------+-------+-------+--------------+---------+-----------------+-----------+-----------+-----------+---+-----------+-----------+-----------+-----------+-----+---------------+---------------+--------------------+--------+-----------+---------+----+----+----+----+\n",
      "only showing top 20 rows\n",
      "\n"
     ]
    }
   ],
   "source": [
    "table = spark.table(\"demo\")\n",
    "table.show()"
   ]
  },
  {
   "cell_type": "markdown",
   "id": "6313d457-a0be-4c70-8c9d-b265424aa441",
   "metadata": {},
   "source": [
    "### Exercice 1: Calculer la moyenne de la puissance administrative (puiss_admin_98) pour chaque marque de voiture (lib_mrq).\n",
    "\n"
   ]
  },
  {
   "cell_type": "code",
   "execution_count": 7,
   "id": "9827b18a-c683-4d50-bbb7-4a851f5e3df6",
   "metadata": {
    "tags": []
   },
   "outputs": [
    {
     "name": "stdout",
     "output_type": "stream",
     "text": [
      "+-----------+-------------------+\n",
      "|    lib_mrq|avg(puiss_admin_98)|\n",
      "+-----------+-------------------+\n",
      "|   MERCEDES| 10.988514632799559|\n",
      "|LAMBORGHINI| 53.388888888888886|\n",
      "|    HYUNDAI| 6.9411764705882355|\n",
      "|      DACIA|  5.137931034482759|\n",
      "|       FIAT|           6.296875|\n",
      "|    CITROEN|  6.468181818181818|\n",
      "|    BENTLEY|  48.15384615384615|\n",
      "|       LADA|                6.0|\n",
      "|   INFINITI|            17.6875|\n",
      "|       AUDI| 12.919770773638968|\n",
      "|       FORD|  7.406040268456376|\n",
      "|    FERRARI|              52.44|\n",
      "|  CHEVROLET|  14.43421052631579|\n",
      "|     JAGUAR| 26.666666666666668|\n",
      "| ALFA-ROMEO|  7.797814207650274|\n",
      "|      LEXUS| 18.833333333333332|\n",
      "|       JEEP|  16.43243243243243|\n",
      "|      MAZDA|  8.073170731707316|\n",
      "|        BMW| 14.362850971922246|\n",
      "|   MASERATI| 29.083333333333332|\n",
      "+-----------+-------------------+\n",
      "only showing top 20 rows\n",
      "\n"
     ]
    }
   ],
   "source": [
    "mean_power_admin_by_brand = table.select(\"puiss_admin_98\", \"lib_mrq\").groupby(\"lib_mrq\").agg(avg(\"puiss_admin_98\")).show()"
   ]
  },
  {
   "cell_type": "markdown",
   "id": "e869a729-043d-4ca6-811f-6f043187f544",
   "metadata": {},
   "source": [
    "### Exercice 2: Trouver la voiture ayant la consommation mixte (conso_mixte) la plus basse.\n",
    "\n"
   ]
  },
  {
   "cell_type": "code",
   "execution_count": 8,
   "id": "04065b2e-074f-45ea-9eaf-d0afe578ac74",
   "metadata": {},
   "outputs": [
    {
     "name": "stdout",
     "output_type": "stream",
     "text": [
      "+----------------+\n",
      "|min(conso_mixte)|\n",
      "+----------------+\n",
      "|     0,600000024|\n",
      "+----------------+\n",
      "\n"
     ]
    }
   ],
   "source": [
    "lowest_conso_mixte = table.select(\"conso_mixte\", \"lib_mod_doss\").agg(min(\"conso_mixte\")).distinct().show()"
   ]
  },
  {
   "cell_type": "markdown",
   "id": "602847c2-154c-430e-8a6d-dab987bf2ef0",
   "metadata": {},
   "source": [
    "### Exercice 3: Filtrer les voitures dont la puissance maximale (puiss_max) est supérieure à 200 chevaux.\n",
    "\n"
   ]
  },
  {
   "cell_type": "code",
   "execution_count": 10,
   "id": "b6c4f9c9-81db-45cf-9a2b-2c8775731d9b",
   "metadata": {},
   "outputs": [
    {
     "name": "stdout",
     "output_type": "stream",
     "text": [
      "+------------+---------+\n",
      "|     lib_mrq|puiss_max|\n",
      "+------------+---------+\n",
      "|  ALFA-ROMEO|      331|\n",
      "|  ALFA-ROMEO|      331|\n",
      "|ASTON MARTIN|      381|\n",
      "|ASTON MARTIN|      381|\n",
      "|ASTON MARTIN|      381|\n",
      "|ASTON MARTIN|      381|\n",
      "|ASTON MARTIN|      381|\n",
      "|ASTON MARTIN|      381|\n",
      "|ASTON MARTIN|      381|\n",
      "|ASTON MARTIN|      381|\n",
      "|ASTON MARTIN|      410|\n",
      "|ASTON MARTIN|      410|\n",
      "|ASTON MARTIN|      380|\n",
      "|ASTON MARTIN|      380|\n",
      "|ASTON MARTIN|      380|\n",
      "|ASTON MARTIN|      380|\n",
      "|ASTON MARTIN|      380|\n",
      "|ASTON MARTIN|      380|\n",
      "|ASTON MARTIN|      422|\n",
      "|ASTON MARTIN|      422|\n",
      "+------------+---------+\n",
      "only showing top 20 rows\n",
      "\n"
     ]
    }
   ],
   "source": [
    "puissance_max = table.select(\"lib_mrq\", \"puiss_max\").filter(col(\"puiss_max\") > 200).show()"
   ]
  },
  {
   "cell_type": "markdown",
   "id": "1adb63ad-213f-42d3-bc16-01e06ceb9a32",
   "metadata": {},
   "source": [
    "### Exercice 4: Calculer le nombre de voitures hybrides par carrosserie.\n",
    "\n"
   ]
  },
  {
   "cell_type": "code",
   "execution_count": null,
   "id": "5359660b-cbd0-4b2a-8abc-433bf941c6f7",
   "metadata": {},
   "outputs": [],
   "source": []
  },
  {
   "cell_type": "markdown",
   "id": "c6c3a836-56f9-44c0-b064-22ad65a5bfa4",
   "metadata": {},
   "source": [
    "### Exercice 5: Calculer le pourcentage de voitures émettant moins de 120 g/km de CO2 (co2) par gamme de voiture.\n",
    "\n"
   ]
  },
  {
   "cell_type": "code",
   "execution_count": null,
   "id": "578b476b-8158-45f2-bcfd-f5227a0ea4e2",
   "metadata": {},
   "outputs": [],
   "source": []
  },
  {
   "cell_type": "markdown",
   "id": "1d6da144-b754-406f-a15c-a41a71dc4794",
   "metadata": {},
   "source": [
    "### Exercice 6: Trouver la carrosserie la plus courante parmi les voitures de chaque gamme.\n",
    "\n"
   ]
  },
  {
   "cell_type": "code",
   "execution_count": null,
   "id": "d73bf88c-f14c-4dc5-a593-569b82079cd3",
   "metadata": {},
   "outputs": [],
   "source": []
  },
  {
   "cell_type": "markdown",
   "id": "1bb84805-cfbe-4229-80f4-d7efbf371d66",
   "metadata": {},
   "source": [
    "### Exercice 7: Calculer la différence entre la puissance maximale (puiss_max) et la puissance administrative (puiss_admin_98) pour chaque voiture.\n",
    "\n"
   ]
  },
  {
   "cell_type": "code",
   "execution_count": null,
   "id": "9af5cd51-ff8b-4196-a736-9d57ff073be4",
   "metadata": {},
   "outputs": [],
   "source": []
  },
  {
   "cell_type": "markdown",
   "id": "1d8fa931-2cb8-42bc-975e-2f14ce65b068",
   "metadata": {},
   "source": [
    "### Exercice 8: Trouver les marques de voiture (lib_mrq) dont la consommation urbaine (conso_urb) est inférieure à la consommation mixte (conso_mixte).\n",
    "\n"
   ]
  },
  {
   "cell_type": "code",
   "execution_count": null,
   "id": "f1829687-6407-43f8-adaf-28e4fe29663c",
   "metadata": {},
   "outputs": [],
   "source": []
  },
  {
   "cell_type": "markdown",
   "id": "c6544838-cf72-47c0-b53c-c8c64e03a1dc",
   "metadata": {},
   "source": [
    "### Exercice 9: Calculer la moyenne des émissions de CO2 (co2) par année de mise à jour (annee_maj).\n",
    "\n"
   ]
  },
  {
   "cell_type": "code",
   "execution_count": null,
   "id": "e620f887-01f6-4802-b236-dbb6c86447e4",
   "metadata": {},
   "outputs": [],
   "source": []
  },
  {
   "cell_type": "markdown",
   "id": "a88baecb-fa37-4695-843d-d9ecb5916276",
   "metadata": {},
   "source": [
    "### Exercice 10: Trouver les voitures dont la masse ordma_max est supérieure à la moyenne de la masse ordma_max de toutes les voitures."
   ]
  },
  {
   "cell_type": "code",
   "execution_count": null,
   "id": "0f6974c1-01e2-47b5-ba83-7cec81653797",
   "metadata": {},
   "outputs": [],
   "source": []
  }
 ],
 "metadata": {
  "kernelspec": {
   "display_name": "Python 3 (ipykernel)",
   "language": "python",
   "name": "python3"
  },
  "language_info": {
   "codemirror_mode": {
    "name": "ipython",
    "version": 3
   },
   "file_extension": ".py",
   "mimetype": "text/x-python",
   "name": "python",
   "nbconvert_exporter": "python",
   "pygments_lexer": "ipython3",
   "version": "3.10.11"
  }
 },
 "nbformat": 4,
 "nbformat_minor": 5
}
