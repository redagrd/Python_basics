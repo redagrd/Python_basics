{
 "cells": [
  {
   "cell_type": "code",
   "execution_count": 1,
   "id": "af46a526-fa97-4434-bd23-f9367a49eda3",
   "metadata": {
    "tags": []
   },
   "outputs": [
    {
     "data": {
      "text/plain": [
       "['Catalog',\n",
       " 'Column',\n",
       " 'DataFrame',\n",
       " 'DataFrameNaFunctions',\n",
       " 'DataFrameReader',\n",
       " 'DataFrameStatFunctions',\n",
       " 'DataFrameWriter',\n",
       " 'DataFrameWriterV2',\n",
       " 'GroupedData',\n",
       " 'HiveContext',\n",
       " 'Observation',\n",
       " 'PandasCogroupedOps',\n",
       " 'Row',\n",
       " 'SQLContext',\n",
       " 'SparkSession',\n",
       " 'UDFRegistration',\n",
       " 'Window',\n",
       " 'WindowSpec',\n",
       " '__all__',\n",
       " '__builtins__',\n",
       " '__cached__',\n",
       " '__doc__',\n",
       " '__file__',\n",
       " '__loader__',\n",
       " '__name__',\n",
       " '__package__',\n",
       " '__path__',\n",
       " '__spec__',\n",
       " 'catalog',\n",
       " 'column',\n",
       " 'conf',\n",
       " 'context',\n",
       " 'dataframe',\n",
       " 'functions',\n",
       " 'group',\n",
       " 'observation',\n",
       " 'pandas',\n",
       " 'readwriter',\n",
       " 'session',\n",
       " 'sql_formatter',\n",
       " 'streaming',\n",
       " 'types',\n",
       " 'udf',\n",
       " 'utils',\n",
       " 'window']"
      ]
     },
     "execution_count": 1,
     "metadata": {},
     "output_type": "execute_result"
    }
   ],
   "source": [
    "import pyspark.sql\n",
    "from pyspark.sql import *\n",
    "from pyspark.sql.functions import *\n",
    "\n",
    "dir(pyspark.sql)"
   ]
  },
  {
   "cell_type": "code",
   "execution_count": 3,
   "id": "efd0edd4-fb17-4e3d-a893-74a1a7a24574",
   "metadata": {
    "tags": []
   },
   "outputs": [],
   "source": [
    "spark = SparkSession.builder.getOrCreate() # on crée la session"
   ]
  },
  {
   "cell_type": "code",
   "execution_count": 6,
   "id": "f918c2ee-68d3-4fd2-a84d-9c52afe1c5b2",
   "metadata": {
    "tags": []
   },
   "outputs": [],
   "source": [
    "data = spark.read.csv(\"demographics_de.csv\", header=True, inferSchema=True) # on récupère le csv et on définit les paramètres"
   ]
  },
  {
   "cell_type": "code",
   "execution_count": 7,
   "id": "6f81b066-51c2-4d4c-a8f4-531840ef3af2",
   "metadata": {
    "tags": []
   },
   "outputs": [
    {
     "name": "stdout",
     "output_type": "stream",
     "text": [
      "+------------------+------+---------+----------+\n",
      "|             state|gender|age_group|population|\n",
      "+------------------+------+---------+----------+\n",
      "|Baden-Wuerttemberg|female|    00-04|    261674|\n",
      "|Baden-Wuerttemberg|female|    05-14|    490822|\n",
      "|Baden-Wuerttemberg|female|    15-34|   1293488|\n",
      "|Baden-Wuerttemberg|female|    35-59|   1919649|\n",
      "|Baden-Wuerttemberg|female|    60-79|   1182736|\n",
      "|Baden-Wuerttemberg|female|    80-99|    419471|\n",
      "|Baden-Wuerttemberg|  male|    00-04|    274882|\n",
      "|Baden-Wuerttemberg|  male|    05-14|    517387|\n",
      "|Baden-Wuerttemberg|  male|    15-34|   1423367|\n",
      "|Baden-Wuerttemberg|  male|    35-59|   1955828|\n",
      "|Baden-Wuerttemberg|  male|    60-79|   1065669|\n",
      "|Baden-Wuerttemberg|  male|    80-99|    264560|\n",
      "|            Bayern|female|    00-04|    306378|\n",
      "|            Bayern|female|    05-14|    560549|\n",
      "|            Bayern|female|    15-34|   1507659|\n",
      "|            Bayern|female|    35-59|   2310659|\n",
      "|            Bayern|female|    60-79|   1421273|\n",
      "|            Bayern|female|    80-99|    486410|\n",
      "|            Bayern|  male|    00-04|    321629|\n",
      "|            Bayern|  male|    05-14|    590551|\n",
      "+------------------+------+---------+----------+\n",
      "only showing top 20 rows\n",
      "\n"
     ]
    }
   ],
   "source": [
    "data.createOrReplaceTempView(\"demo\")\n",
    "request = spark.sql(\"select * from demo\")\n",
    "request.show()"
   ]
  },
  {
   "cell_type": "code",
   "execution_count": 8,
   "id": "e18d7a0f-c260-4779-9682-61ec5bad7fd3",
   "metadata": {
    "tags": []
   },
   "outputs": [
    {
     "name": "stdout",
     "output_type": "stream",
     "text": [
      "+------------------+------+---------+----------+\n",
      "|             state|gender|age_group|population|\n",
      "+------------------+------+---------+----------+\n",
      "|Baden-Wuerttemberg|female|    00-04|    261674|\n",
      "|Baden-Wuerttemberg|female|    05-14|    490822|\n",
      "|Baden-Wuerttemberg|female|    15-34|   1293488|\n",
      "|Baden-Wuerttemberg|female|    35-59|   1919649|\n",
      "|Baden-Wuerttemberg|female|    60-79|   1182736|\n",
      "|Baden-Wuerttemberg|female|    80-99|    419471|\n",
      "|Baden-Wuerttemberg|  male|    00-04|    274882|\n",
      "|Baden-Wuerttemberg|  male|    05-14|    517387|\n",
      "|Baden-Wuerttemberg|  male|    15-34|   1423367|\n",
      "|Baden-Wuerttemberg|  male|    35-59|   1955828|\n",
      "|Baden-Wuerttemberg|  male|    60-79|   1065669|\n",
      "|Baden-Wuerttemberg|  male|    80-99|    264560|\n",
      "|            Bayern|female|    00-04|    306378|\n",
      "|            Bayern|female|    05-14|    560549|\n",
      "|            Bayern|female|    15-34|   1507659|\n",
      "|            Bayern|female|    35-59|   2310659|\n",
      "|            Bayern|female|    60-79|   1421273|\n",
      "|            Bayern|female|    80-99|    486410|\n",
      "|            Bayern|  male|    00-04|    321629|\n",
      "|            Bayern|  male|    05-14|    590551|\n",
      "+------------------+------+---------+----------+\n",
      "only showing top 20 rows\n",
      "\n"
     ]
    }
   ],
   "source": [
    "table = spark.table(\"demo\")\n",
    "table.show()"
   ]
  },
  {
   "cell_type": "markdown",
   "id": "675c8915-a10b-4187-85cf-c1daf3bd0942",
   "metadata": {},
   "source": [
    "## Exercice 1: Afficher les cinq premières lignes du DataFrame.\n",
    "\n"
   ]
  },
  {
   "cell_type": "code",
   "execution_count": 9,
   "id": "3280b26f-14be-48bc-9047-b4e25132a6d3",
   "metadata": {
    "tags": []
   },
   "outputs": [
    {
     "name": "stdout",
     "output_type": "stream",
     "text": [
      "+------------------+------+---------+----------+\n",
      "|             state|gender|age_group|population|\n",
      "+------------------+------+---------+----------+\n",
      "|Baden-Wuerttemberg|female|    00-04|    261674|\n",
      "|Baden-Wuerttemberg|female|    05-14|    490822|\n",
      "|Baden-Wuerttemberg|female|    15-34|   1293488|\n",
      "|Baden-Wuerttemberg|female|    35-59|   1919649|\n",
      "|Baden-Wuerttemberg|female|    60-79|   1182736|\n",
      "+------------------+------+---------+----------+\n",
      "only showing top 5 rows\n",
      "\n"
     ]
    }
   ],
   "source": [
    "table.show(5)"
   ]
  },
  {
   "cell_type": "markdown",
   "id": "f14457e7-4066-4803-a2f7-83edbd5b21cf",
   "metadata": {},
   "source": [
    "## Exercice 2: Compter le nombre total de lignes dans le DataFrame.\n",
    "\n"
   ]
  },
  {
   "cell_type": "code",
   "execution_count": 13,
   "id": "cda39ece-7392-40e2-94d3-0bc4eddf3995",
   "metadata": {
    "tags": []
   },
   "outputs": [
    {
     "data": {
      "text/plain": [
       "192"
      ]
     },
     "execution_count": 13,
     "metadata": {},
     "output_type": "execute_result"
    }
   ],
   "source": [
    "table.count()"
   ]
  },
  {
   "cell_type": "markdown",
   "id": "b5ec5f3d-d8b5-409c-9af5-fbacba8eb4d0",
   "metadata": {},
   "source": [
    "## Exercice 3: Trouver le nombre distinct d'états (states) présents dans le DataFrame.\n",
    "\n"
   ]
  },
  {
   "cell_type": "code",
   "execution_count": 19,
   "id": "100a4c4d-2692-4750-ad75-207c7cf71a51",
   "metadata": {
    "tags": []
   },
   "outputs": [
    {
     "name": "stdout",
     "output_type": "stream",
     "text": [
      "16\n"
     ]
    }
   ],
   "source": [
    "display_states = table.select(\"state\").distinct().count()\n",
    "print(display_states)"
   ]
  },
  {
   "cell_type": "markdown",
   "id": "a1f768cc-11c5-435c-a0d9-7dbcb6cf3cc3",
   "metadata": {},
   "source": [
    "## Exercice 4: Calculer la somme de la population totale.\n",
    "\n"
   ]
  },
  {
   "cell_type": "code",
   "execution_count": 94,
   "id": "1817cb7d-c13a-4d8c-81b6-fd8b186d022c",
   "metadata": {
    "tags": []
   },
   "outputs": [
    {
     "name": "stdout",
     "output_type": "stream",
     "text": [
      "+---------------+\n",
      "|sum(population)|\n",
      "+---------------+\n",
      "|       83019213|\n",
      "+---------------+\n",
      "\n"
     ]
    }
   ],
   "source": [
    "sum_population = table.select(col(\"population\")).agg(sum(col(\"population\"))).show()"
   ]
  },
  {
   "cell_type": "markdown",
   "id": "75b81471-bcd8-422d-be0c-444b29ffc09d",
   "metadata": {},
   "source": [
    "## Exercice 5: Afficher la population maximale par groupe d'âge (age_group).\n",
    "\n"
   ]
  },
  {
   "cell_type": "code",
   "execution_count": 37,
   "id": "a76e19e8-39c4-494d-bdb0-c934030e3f0f",
   "metadata": {
    "tags": []
   },
   "outputs": [
    {
     "name": "stdout",
     "output_type": "stream",
     "text": [
      "+---------+---------------+\n",
      "|age_group|max(population)|\n",
      "+---------+---------------+\n",
      "|    80-99|         729148|\n",
      "|    60-79|        2009976|\n",
      "|    35-59|        3147565|\n",
      "|    15-34|        2188068|\n",
      "|    05-14|         832251|\n",
      "|    00-04|         440708|\n",
      "+---------+---------------+\n",
      "\n"
     ]
    }
   ],
   "source": [
    "max_poputaion = table.select(\"population\", \"age_group\").groupby(\"age_group\").agg(max(col(\"population\"))).sort(col(\"age_group\").desc()).show()"
   ]
  },
  {
   "cell_type": "markdown",
   "id": "54f88748-3222-44ee-b470-203fd31eec16",
   "metadata": {},
   "source": [
    "## Exercice 6: Filtrer les lignes du DataFrame pour n'inclure que les états (states) dont la population dépasse 1 million.\n",
    "\n"
   ]
  },
  {
   "cell_type": "code",
   "execution_count": 54,
   "id": "8f3fa8a1-60ad-4066-8122-1f6d87a93104",
   "metadata": {
    "tags": []
   },
   "outputs": [
    {
     "name": "stdout",
     "output_type": "stream",
     "text": [
      "+-------------------+------+---------+----------+\n",
      "|              state|gender|age_group|population|\n",
      "+-------------------+------+---------+----------+\n",
      "|Nordrhein-Westfalen|female|    35-59|   3147565|\n",
      "|Nordrhein-Westfalen|  male|    35-59|   3127984|\n",
      "|             Bayern|  male|    35-59|   2348310|\n",
      "|             Bayern|female|    35-59|   2310659|\n",
      "|Nordrhein-Westfalen|  male|    15-34|   2188068|\n",
      "|Nordrhein-Westfalen|female|    15-34|   2047533|\n",
      "|Nordrhein-Westfalen|female|    60-79|   2009976|\n",
      "| Baden-Wuerttemberg|  male|    35-59|   1955828|\n",
      "| Baden-Wuerttemberg|female|    35-59|   1919649|\n",
      "|Nordrhein-Westfalen|  male|    60-79|   1775275|\n",
      "|             Bayern|  male|    15-34|   1639500|\n",
      "|             Bayern|female|    15-34|   1507659|\n",
      "| Baden-Wuerttemberg|  male|    15-34|   1423367|\n",
      "|             Bayern|female|    60-79|   1421273|\n",
      "|      Niedersachsen|female|    35-59|   1392647|\n",
      "|      Niedersachsen|  male|    35-59|   1391992|\n",
      "| Baden-Wuerttemberg|female|    15-34|   1293488|\n",
      "|             Bayern|  male|    60-79|   1285577|\n",
      "| Baden-Wuerttemberg|female|    60-79|   1182736|\n",
      "|             Hessen|  male|    35-59|   1111560|\n",
      "+-------------------+------+---------+----------+\n",
      "only showing top 20 rows\n",
      "\n"
     ]
    }
   ],
   "source": [
    "states_above_1M = table.filter(col(\"population\") > 1000000).sort(col('population').desc()).show()"
   ]
  },
  {
   "cell_type": "markdown",
   "id": "1c08ee83-f42f-4bd6-b73f-44858073251d",
   "metadata": {},
   "source": [
    "## Exercice 7: Calculer la moyenne de la population pour chaque groupe d'âge (age_group).\n",
    "\n"
   ]
  },
  {
   "cell_type": "code",
   "execution_count": 73,
   "id": "3c543e51-2bbc-4dc4-bbea-a1909cc93396",
   "metadata": {
    "tags": []
   },
   "outputs": [
    {
     "name": "stdout",
     "output_type": "stream",
     "text": [
      "+---------+---------------+\n",
      "|age_group|avg(population)|\n",
      "+---------+---------------+\n",
      "|    80-99|    168409.5625|\n",
      "|    60-79|     562135.625|\n",
      "|    35-59|   910557.46875|\n",
      "|    15-34|   600409.78125|\n",
      "|    05-14|    230138.0625|\n",
      "|    00-04|   122699.90625|\n",
      "+---------+---------------+\n",
      "\n"
     ]
    }
   ],
   "source": [
    "mean_pop_by_age = table.select('population', 'age_group').groupby('age_group').agg(avg('population')).sort(col('age_group').desc()).show()"
   ]
  },
  {
   "cell_type": "markdown",
   "id": "0c57825b-e204-4438-919c-52a3a8fad333",
   "metadata": {},
   "source": [
    "## Exercice 8: Trier le DataFrame par ordre décroissant de population.\n",
    "\n"
   ]
  },
  {
   "cell_type": "code",
   "execution_count": 78,
   "id": "193e31f5-6f81-431f-8e23-042d03730598",
   "metadata": {
    "tags": []
   },
   "outputs": [
    {
     "name": "stdout",
     "output_type": "stream",
     "text": [
      "+-------------------+------+---------+----------+\n",
      "|              state|gender|age_group|population|\n",
      "+-------------------+------+---------+----------+\n",
      "|Nordrhein-Westfalen|female|    35-59|   3147565|\n",
      "|Nordrhein-Westfalen|  male|    35-59|   3127984|\n",
      "|             Bayern|  male|    35-59|   2348310|\n",
      "|             Bayern|female|    35-59|   2310659|\n",
      "|Nordrhein-Westfalen|  male|    15-34|   2188068|\n",
      "|Nordrhein-Westfalen|female|    15-34|   2047533|\n",
      "|Nordrhein-Westfalen|female|    60-79|   2009976|\n",
      "| Baden-Wuerttemberg|  male|    35-59|   1955828|\n",
      "| Baden-Wuerttemberg|female|    35-59|   1919649|\n",
      "|Nordrhein-Westfalen|  male|    60-79|   1775275|\n",
      "|             Bayern|  male|    15-34|   1639500|\n",
      "|             Bayern|female|    15-34|   1507659|\n",
      "| Baden-Wuerttemberg|  male|    15-34|   1423367|\n",
      "|             Bayern|female|    60-79|   1421273|\n",
      "|      Niedersachsen|female|    35-59|   1392647|\n",
      "|      Niedersachsen|  male|    35-59|   1391992|\n",
      "| Baden-Wuerttemberg|female|    15-34|   1293488|\n",
      "|             Bayern|  male|    60-79|   1285577|\n",
      "| Baden-Wuerttemberg|female|    60-79|   1182736|\n",
      "|             Hessen|  male|    35-59|   1111560|\n",
      "+-------------------+------+---------+----------+\n",
      "only showing top 20 rows\n",
      "\n"
     ]
    }
   ],
   "source": [
    "sort_pop_desc = table.sort(col('population').desc()).show()"
   ]
  },
  {
   "cell_type": "markdown",
   "id": "7f67fefc-2b53-4a0f-8f29-a04ed781a12d",
   "metadata": {},
   "source": [
    "## Exercice 9: Sélectionner les lignes du DataFrame où l'âge (age_group) est \"18-24\" et le sexe (gender) est \"F\".\n",
    "\n"
   ]
  },
  {
   "cell_type": "code",
   "execution_count": 79,
   "id": "fb9bc89c-c6b9-4ef9-9cf6-38c146bd72ca",
   "metadata": {
    "tags": []
   },
   "outputs": [
    {
     "name": "stdout",
     "output_type": "stream",
     "text": [
      "+--------------------+------+---------+----------+\n",
      "|               state|gender|age_group|population|\n",
      "+--------------------+------+---------+----------+\n",
      "|  Baden-Wuerttemberg|female|    15-34|   1293488|\n",
      "|              Bayern|female|    15-34|   1507659|\n",
      "|              Berlin|female|    15-34|    477479|\n",
      "|         Brandenburg|female|    15-34|    213065|\n",
      "|              Bremen|female|    15-34|     83990|\n",
      "|             Hamburg|female|    15-34|    246744|\n",
      "|              Hessen|female|    15-34|    715254|\n",
      "|Mecklenburg-Vorpo...|female|    15-34|    146826|\n",
      "|       Niedersachsen|female|    15-34|    875509|\n",
      "| Nordrhein-Westfalen|female|    15-34|   2047533|\n",
      "|     Rheinland-Pfalz|female|    15-34|    448341|\n",
      "|            Saarland|female|    15-34|    103235|\n",
      "|             Sachsen|female|    15-34|    386154|\n",
      "|      Sachsen-Anhalt|female|    15-34|    193271|\n",
      "|  Schleswig-Holstein|female|    15-34|    305125|\n",
      "|          Thueringen|female|    15-34|    191712|\n",
      "+--------------------+------+---------+----------+\n",
      "\n"
     ]
    }
   ],
   "source": [
    "young_women = table.filter((col(\"age_group\") == \"15-34\") & (col(\"gender\") == \"female\")).show()"
   ]
  },
  {
   "cell_type": "markdown",
   "id": "ec28f498-28a9-43c8-8e82-9574dc40b5d7",
   "metadata": {},
   "source": [
    "## Exercice 10: Ajouter une nouvelle colonne \"population_percentage\" qui représente la proportion de la population par rapport à la population totale.\n",
    "\n"
   ]
  },
  {
   "cell_type": "code",
   "execution_count": 106,
   "id": "adb71aed-3a0d-4c13-a0b9-9cf5b400174a",
   "metadata": {
    "tags": []
   },
   "outputs": [],
   "source": [
    "# add_column = table.withColumn(\"population_percentage\", sum(table[\"population\"] / sql_sum(table[\"population\"]).over(Window.partitionBy()))\n",
    "add_column = table.withColumn(\"population_percentage\",col('population') * 100/sum_population).collect()[0][0]"
   ]
  }
 ],
 "metadata": {
  "kernelspec": {
   "display_name": "Python 3 (ipykernel)",
   "language": "python",
   "name": "python3"
  },
  "language_info": {
   "codemirror_mode": {
    "name": "ipython",
    "version": 3
   },
   "file_extension": ".py",
   "mimetype": "text/x-python",
   "name": "python",
   "nbconvert_exporter": "python",
   "pygments_lexer": "ipython3",
   "version": "3.10.11"
  }
 },
 "nbformat": 4,
 "nbformat_minor": 5
}
