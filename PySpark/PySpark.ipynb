{
 "cells": [
  {
   "cell_type": "markdown",
   "id": "637a64ce-2b68-4a62-a850-8a632cf17ca7",
   "metadata": {},
   "source": [
    "# PySpark"
   ]
  },
  {
   "cell_type": "markdown",
   "id": "e7db04b8-b286-4ff8-924d-d8fc82285653",
   "metadata": {},
   "source": [
    "## Imports"
   ]
  },
  {
   "cell_type": "code",
   "execution_count": 3,
   "id": "2fbe76e9-5b2e-49ef-b7cf-08f5b4056ab8",
   "metadata": {
    "tags": []
   },
   "outputs": [
    {
     "data": {
      "text/plain": [
       "['Catalog',\n",
       " 'Column',\n",
       " 'DataFrame',\n",
       " 'DataFrameNaFunctions',\n",
       " 'DataFrameReader',\n",
       " 'DataFrameStatFunctions',\n",
       " 'DataFrameWriter',\n",
       " 'DataFrameWriterV2',\n",
       " 'GroupedData',\n",
       " 'HiveContext',\n",
       " 'Observation',\n",
       " 'PandasCogroupedOps',\n",
       " 'Row',\n",
       " 'SQLContext',\n",
       " 'SparkSession',\n",
       " 'UDFRegistration',\n",
       " 'Window',\n",
       " 'WindowSpec',\n",
       " '__all__',\n",
       " '__builtins__',\n",
       " '__cached__',\n",
       " '__doc__',\n",
       " '__file__',\n",
       " '__loader__',\n",
       " '__name__',\n",
       " '__package__',\n",
       " '__path__',\n",
       " '__spec__',\n",
       " 'catalog',\n",
       " 'column',\n",
       " 'conf',\n",
       " 'context',\n",
       " 'dataframe',\n",
       " 'functions',\n",
       " 'group',\n",
       " 'observation',\n",
       " 'pandas',\n",
       " 'readwriter',\n",
       " 'session',\n",
       " 'sql_formatter',\n",
       " 'streaming',\n",
       " 'types',\n",
       " 'udf',\n",
       " 'utils',\n",
       " 'window']"
      ]
     },
     "execution_count": 3,
     "metadata": {},
     "output_type": "execute_result"
    }
   ],
   "source": [
    "import pyspark.sql\n",
    "from pyspark.sql import *\n",
    "from pyspark.sql.functions import *\n",
    "\n",
    "dir(pyspark.sql) #affiche les méthodes de la librairie"
   ]
  },
  {
   "cell_type": "code",
   "execution_count": 5,
   "id": "d3c2269f-101e-4d55-bebd-4df9d924318c",
   "metadata": {
    "tags": []
   },
   "outputs": [],
   "source": [
    "spark = SparkSession.builder.getOrCreate() # on crée la session"
   ]
  },
  {
   "cell_type": "code",
   "execution_count": 6,
   "id": "8896aeef-3234-4d5c-aa99-8bbeaf6aaaf8",
   "metadata": {
    "tags": []
   },
   "outputs": [],
   "source": [
    "data = spark.read.csv(\"covid_de.csv\", header=True, inferSchema=True) # on récupère le csv et on définit les paramètres"
   ]
  },
  {
   "cell_type": "code",
   "execution_count": 7,
   "id": "f73ad128-711b-47d8-b4cf-6eda473e81d3",
   "metadata": {
    "tags": []
   },
   "outputs": [
    {
     "name": "stdout",
     "output_type": "stream",
     "text": [
      "root\n",
      " |-- state: string (nullable = true)\n",
      " |-- county: string (nullable = true)\n",
      " |-- age_group: string (nullable = true)\n",
      " |-- gender: string (nullable = true)\n",
      " |-- date: date (nullable = true)\n",
      " |-- cases: integer (nullable = true)\n",
      " |-- deaths: integer (nullable = true)\n",
      " |-- recovered: integer (nullable = true)\n",
      "\n"
     ]
    }
   ],
   "source": [
    "data.printSchema() # on affiche le schema"
   ]
  },
  {
   "cell_type": "code",
   "execution_count": 8,
   "id": "56af45f6-fd21-4d25-91a5-4ad9c6e1a95a",
   "metadata": {
    "tags": []
   },
   "outputs": [],
   "source": [
    "data.createOrReplaceTempView(\"covid\") # on crée un vue temporaire en la nommant"
   ]
  },
  {
   "cell_type": "code",
   "execution_count": 9,
   "id": "7ca3f1d8-0884-4f8d-a040-f7dc44ffcbce",
   "metadata": {
    "tags": []
   },
   "outputs": [
    {
     "name": "stdout",
     "output_type": "stream",
     "text": [
      "+------------------+------------------+---------+------+----------+-----+------+---------+\n",
      "|             state|            county|age_group|gender|      date|cases|deaths|recovered|\n",
      "+------------------+------------------+---------+------+----------+-----+------+---------+\n",
      "|Baden-Wuerttemberg|LK Alb-Donau-Kreis|    00-04|     F|2020-03-27|    1|     0|        1|\n",
      "|Baden-Wuerttemberg|LK Alb-Donau-Kreis|    00-04|     F|2020-03-28|    1|     0|        1|\n",
      "|Baden-Wuerttemberg|LK Alb-Donau-Kreis|    00-04|     F|2020-04-03|    1|     0|        1|\n",
      "|Baden-Wuerttemberg|LK Alb-Donau-Kreis|    00-04|     M|2020-04-05|    1|     0|        1|\n",
      "|Baden-Wuerttemberg|LK Alb-Donau-Kreis|    00-04|     M|2020-05-18|    1|     0|        1|\n",
      "|Baden-Wuerttemberg|LK Alb-Donau-Kreis|    05-14|     F|2020-03-17|    1|     0|        1|\n",
      "|Baden-Wuerttemberg|LK Alb-Donau-Kreis|    05-14|     F|2020-03-25|    1|     0|        1|\n",
      "|Baden-Wuerttemberg|LK Alb-Donau-Kreis|    05-14|     F|2020-03-26|    1|     0|        1|\n",
      "|Baden-Wuerttemberg|LK Alb-Donau-Kreis|    05-14|     F|2020-03-29|    1|     0|        1|\n",
      "|Baden-Wuerttemberg|LK Alb-Donau-Kreis|    05-14|     F|2020-03-31|    1|     0|        1|\n",
      "|Baden-Wuerttemberg|LK Alb-Donau-Kreis|    05-14|     F|2020-04-01|    1|     0|        1|\n",
      "|Baden-Wuerttemberg|LK Alb-Donau-Kreis|    05-14|     F|2020-04-09|    1|     0|        1|\n",
      "|Baden-Wuerttemberg|LK Alb-Donau-Kreis|    05-14|     F|2020-04-17|    1|     0|        1|\n",
      "|Baden-Wuerttemberg|LK Alb-Donau-Kreis|    05-14|     F|2020-04-27|    1|     0|        1|\n",
      "|Baden-Wuerttemberg|LK Alb-Donau-Kreis|    05-14|     F|2020-05-11|    1|     0|        1|\n",
      "|Baden-Wuerttemberg|LK Alb-Donau-Kreis|    05-14|     F|2020-05-23|    1|     0|        1|\n",
      "|Baden-Wuerttemberg|LK Alb-Donau-Kreis|    05-14|     M|2020-03-26|    1|     0|        1|\n",
      "|Baden-Wuerttemberg|LK Alb-Donau-Kreis|    05-14|     M|2020-03-30|    1|     0|        1|\n",
      "|Baden-Wuerttemberg|LK Alb-Donau-Kreis|    05-14|     M|2020-04-01|    2|     0|        2|\n",
      "|Baden-Wuerttemberg|LK Alb-Donau-Kreis|    05-14|     M|2020-05-23|    1|     0|        1|\n",
      "+------------------+------------------+---------+------+----------+-----+------+---------+\n",
      "only showing top 20 rows\n",
      "\n"
     ]
    }
   ],
   "source": [
    "request = spark.sql(\"select * from covid\")\n",
    "request.show()"
   ]
  },
  {
   "cell_type": "markdown",
   "id": "15d7412e-e43d-4176-beaf-6befe4b8704b",
   "metadata": {},
   "source": [
    "## Récupérer la table en datafraame"
   ]
  },
  {
   "cell_type": "code",
   "execution_count": 10,
   "id": "f7734fc2-bd4b-4988-8399-91eabe677b03",
   "metadata": {
    "tags": []
   },
   "outputs": [
    {
     "name": "stdout",
     "output_type": "stream",
     "text": [
      "+------------------+------------------+---------+------+----------+-----+------+---------+\n",
      "|             state|            county|age_group|gender|      date|cases|deaths|recovered|\n",
      "+------------------+------------------+---------+------+----------+-----+------+---------+\n",
      "|Baden-Wuerttemberg|LK Alb-Donau-Kreis|    00-04|     F|2020-03-27|    1|     0|        1|\n",
      "|Baden-Wuerttemberg|LK Alb-Donau-Kreis|    00-04|     F|2020-03-28|    1|     0|        1|\n",
      "|Baden-Wuerttemberg|LK Alb-Donau-Kreis|    00-04|     F|2020-04-03|    1|     0|        1|\n",
      "|Baden-Wuerttemberg|LK Alb-Donau-Kreis|    00-04|     M|2020-04-05|    1|     0|        1|\n",
      "|Baden-Wuerttemberg|LK Alb-Donau-Kreis|    00-04|     M|2020-05-18|    1|     0|        1|\n",
      "|Baden-Wuerttemberg|LK Alb-Donau-Kreis|    05-14|     F|2020-03-17|    1|     0|        1|\n",
      "|Baden-Wuerttemberg|LK Alb-Donau-Kreis|    05-14|     F|2020-03-25|    1|     0|        1|\n",
      "|Baden-Wuerttemberg|LK Alb-Donau-Kreis|    05-14|     F|2020-03-26|    1|     0|        1|\n",
      "|Baden-Wuerttemberg|LK Alb-Donau-Kreis|    05-14|     F|2020-03-29|    1|     0|        1|\n",
      "|Baden-Wuerttemberg|LK Alb-Donau-Kreis|    05-14|     F|2020-03-31|    1|     0|        1|\n",
      "|Baden-Wuerttemberg|LK Alb-Donau-Kreis|    05-14|     F|2020-04-01|    1|     0|        1|\n",
      "|Baden-Wuerttemberg|LK Alb-Donau-Kreis|    05-14|     F|2020-04-09|    1|     0|        1|\n",
      "|Baden-Wuerttemberg|LK Alb-Donau-Kreis|    05-14|     F|2020-04-17|    1|     0|        1|\n",
      "|Baden-Wuerttemberg|LK Alb-Donau-Kreis|    05-14|     F|2020-04-27|    1|     0|        1|\n",
      "|Baden-Wuerttemberg|LK Alb-Donau-Kreis|    05-14|     F|2020-05-11|    1|     0|        1|\n",
      "|Baden-Wuerttemberg|LK Alb-Donau-Kreis|    05-14|     F|2020-05-23|    1|     0|        1|\n",
      "|Baden-Wuerttemberg|LK Alb-Donau-Kreis|    05-14|     M|2020-03-26|    1|     0|        1|\n",
      "|Baden-Wuerttemberg|LK Alb-Donau-Kreis|    05-14|     M|2020-03-30|    1|     0|        1|\n",
      "|Baden-Wuerttemberg|LK Alb-Donau-Kreis|    05-14|     M|2020-04-01|    2|     0|        2|\n",
      "|Baden-Wuerttemberg|LK Alb-Donau-Kreis|    05-14|     M|2020-05-23|    1|     0|        1|\n",
      "+------------------+------------------+---------+------+----------+-----+------+---------+\n",
      "only showing top 20 rows\n",
      "\n"
     ]
    }
   ],
   "source": [
    "table = spark.table(\"covid\")\n",
    "table.show()"
   ]
  },
  {
   "cell_type": "markdown",
   "id": "b0f69fc7-c499-46f5-b7c1-1d1319448bfa",
   "metadata": {},
   "source": [
    "## Le select"
   ]
  },
  {
   "cell_type": "code",
   "execution_count": 11,
   "id": "7f53c597-6c70-4890-af5e-801743fe7325",
   "metadata": {
    "tags": []
   },
   "outputs": [
    {
     "name": "stdout",
     "output_type": "stream",
     "text": [
      "+------------------+------------------+\n",
      "|             state|            county|\n",
      "+------------------+------------------+\n",
      "|Baden-Wuerttemberg|LK Alb-Donau-Kreis|\n",
      "|Baden-Wuerttemberg|LK Alb-Donau-Kreis|\n",
      "|Baden-Wuerttemberg|LK Alb-Donau-Kreis|\n",
      "|Baden-Wuerttemberg|LK Alb-Donau-Kreis|\n",
      "|Baden-Wuerttemberg|LK Alb-Donau-Kreis|\n",
      "|Baden-Wuerttemberg|LK Alb-Donau-Kreis|\n",
      "|Baden-Wuerttemberg|LK Alb-Donau-Kreis|\n",
      "|Baden-Wuerttemberg|LK Alb-Donau-Kreis|\n",
      "|Baden-Wuerttemberg|LK Alb-Donau-Kreis|\n",
      "|Baden-Wuerttemberg|LK Alb-Donau-Kreis|\n",
      "|Baden-Wuerttemberg|LK Alb-Donau-Kreis|\n",
      "|Baden-Wuerttemberg|LK Alb-Donau-Kreis|\n",
      "|Baden-Wuerttemberg|LK Alb-Donau-Kreis|\n",
      "|Baden-Wuerttemberg|LK Alb-Donau-Kreis|\n",
      "|Baden-Wuerttemberg|LK Alb-Donau-Kreis|\n",
      "|Baden-Wuerttemberg|LK Alb-Donau-Kreis|\n",
      "|Baden-Wuerttemberg|LK Alb-Donau-Kreis|\n",
      "|Baden-Wuerttemberg|LK Alb-Donau-Kreis|\n",
      "|Baden-Wuerttemberg|LK Alb-Donau-Kreis|\n",
      "|Baden-Wuerttemberg|LK Alb-Donau-Kreis|\n",
      "+------------------+------------------+\n",
      "only showing top 20 rows\n",
      "\n"
     ]
    }
   ],
   "source": [
    "display_country_and_state = table.select(\"state\", \"county\")\n",
    "display_country_and_state.show()"
   ]
  },
  {
   "cell_type": "markdown",
   "id": "c4bbebb9-9c4a-4a41-9dfb-f47a143ac851",
   "metadata": {
    "tags": []
   },
   "source": [
    "## Le dinstinct"
   ]
  },
  {
   "cell_type": "code",
   "execution_count": 13,
   "id": "5b6c7ae8-7177-4f75-b102-76b27f63f293",
   "metadata": {
    "tags": []
   },
   "outputs": [
    {
     "name": "stdout",
     "output_type": "stream",
     "text": [
      "+--------------------+--------------------+\n",
      "|               state|              county|\n",
      "+--------------------+--------------------+\n",
      "|              Bayern|           SK Passau|\n",
      "|       Niedersachsen|            SK Emden|\n",
      "|              Hessen|        SK Offenbach|\n",
      "|  Baden-Wuerttemberg|             LK Calw|\n",
      "|              Bayern|       LK Ostallgaeu|\n",
      "|              Bayern|    SK Aschaffenburg|\n",
      "|         Brandenburg|         LK Prignitz|\n",
      "| Nordrhein-Westfalen| LK Rhein-Sieg-Kreis|\n",
      "|              Bayern| LK Nuernberger Land|\n",
      "| Nordrhein-Westfalen|        LK Heinsberg|\n",
      "| Nordrhein-Westfalen|            LK Wesel|\n",
      "|         Brandenburg|       LK Oder-Spree|\n",
      "|Mecklenburg-Vorpo...|LK Ludwigslust-Pa...|\n",
      "| Nordrhein-Westfalen|       LK Euskirchen|\n",
      "|              Bayern|           LK Dachau|\n",
      "|              Bayern|  LK Straubing-Bogen|\n",
      "|              Bayern|       LK Altoetting|\n",
      "|              Bayern|           SK Amberg|\n",
      "|              Hessen|  LK Lahn-Dill-Kreis|\n",
      "|              Hessen|        LK Offenbach|\n",
      "+--------------------+--------------------+\n",
      "only showing top 20 rows\n",
      "\n"
     ]
    }
   ],
   "source": [
    "display_country_and_state_distinct = display_country_and_state.distinct()\n",
    "display_country_and_state_distinct.show()"
   ]
  },
  {
   "cell_type": "markdown",
   "id": "f0f17810-b49c-45d6-9c41-333cb90357c3",
   "metadata": {},
   "source": [
    "## En passant directement par la table"
   ]
  },
  {
   "cell_type": "code",
   "execution_count": 14,
   "id": "0371d4c9-c0fa-4a75-a5e7-2862bd3de8f5",
   "metadata": {
    "tags": []
   },
   "outputs": [
    {
     "name": "stdout",
     "output_type": "stream",
     "text": [
      "+--------------------+--------------------+\n",
      "|               state|              county|\n",
      "+--------------------+--------------------+\n",
      "|              Bayern|           SK Passau|\n",
      "|       Niedersachsen|            SK Emden|\n",
      "|              Hessen|        SK Offenbach|\n",
      "|  Baden-Wuerttemberg|             LK Calw|\n",
      "|              Bayern|       LK Ostallgaeu|\n",
      "|              Bayern|    SK Aschaffenburg|\n",
      "|         Brandenburg|         LK Prignitz|\n",
      "| Nordrhein-Westfalen| LK Rhein-Sieg-Kreis|\n",
      "|              Bayern| LK Nuernberger Land|\n",
      "| Nordrhein-Westfalen|        LK Heinsberg|\n",
      "| Nordrhein-Westfalen|            LK Wesel|\n",
      "|         Brandenburg|       LK Oder-Spree|\n",
      "|Mecklenburg-Vorpo...|LK Ludwigslust-Pa...|\n",
      "| Nordrhein-Westfalen|       LK Euskirchen|\n",
      "|              Bayern|           LK Dachau|\n",
      "|              Bayern|  LK Straubing-Bogen|\n",
      "|              Bayern|       LK Altoetting|\n",
      "|              Bayern|           SK Amberg|\n",
      "|              Hessen|  LK Lahn-Dill-Kreis|\n",
      "|              Hessen|        LK Offenbach|\n",
      "+--------------------+--------------------+\n",
      "only showing top 20 rows\n",
      "\n"
     ]
    }
   ],
   "source": [
    "display_country_and_state_distinct = table.select('state', 'county').distinct()\n",
    "display_country_and_state_distinct.show()"
   ]
  },
  {
   "cell_type": "markdown",
   "id": "d7b86634-9e2e-47db-a60b-20cdeef4e441",
   "metadata": {},
   "source": [
    "## Utilisation des filters (le WHERE)"
   ]
  },
  {
   "cell_type": "code",
   "execution_count": 21,
   "id": "cd0d2f23-4210-46ad-8c6a-242f6b5d780d",
   "metadata": {
    "tags": []
   },
   "outputs": [
    {
     "name": "stdout",
     "output_type": "stream",
     "text": [
      "+------------------+--------------------+\n",
      "|             state|              county|\n",
      "+------------------+--------------------+\n",
      "|            Bayern|           SK Passau|\n",
      "|Baden-Wuerttemberg|             LK Calw|\n",
      "|            Bayern|       LK Ostallgaeu|\n",
      "|            Bayern|    SK Aschaffenburg|\n",
      "|       Brandenburg|         LK Prignitz|\n",
      "|            Bayern| LK Nuernberger Land|\n",
      "|       Brandenburg|       LK Oder-Spree|\n",
      "|            Bayern|           LK Dachau|\n",
      "|            Bayern|  LK Straubing-Bogen|\n",
      "|            Bayern|       LK Altoetting|\n",
      "|            Bayern|           SK Amberg|\n",
      "|            Berlin| SK Berlin Neukoelln|\n",
      "|Baden-Wuerttemberg|        SK Stuttgart|\n",
      "|Baden-Wuerttemberg|         LK Enzkreis|\n",
      "|            Bayern|          LK Bamberg|\n",
      "|            Bayern|      LK Lichtenfels|\n",
      "|Baden-Wuerttemberg|LK Main-Tauber-Kreis|\n",
      "|            Bayern|       SK Regensburg|\n",
      "|            Bayern|          LK Ansbach|\n",
      "|            Bayern|     LK Unterallgaeu|\n",
      "+------------------+--------------------+\n",
      "only showing top 20 rows\n",
      "\n"
     ]
    }
   ],
   "source": [
    "show_state_start_by_b = display_country_and_state_distinct.filter(col('state').startswith('B'))\n",
    "show_state_start_by_b.show()"
   ]
  },
  {
   "cell_type": "markdown",
   "id": "ae0fc00c-07e2-4e29-a6f9-fca04c150a8f",
   "metadata": {},
   "source": [
    "### Conditions en AND"
   ]
  },
  {
   "cell_type": "code",
   "execution_count": 25,
   "id": "33d88c10-32f3-4d1f-9bbb-83e9ee8aaeef",
   "metadata": {
    "tags": []
   },
   "outputs": [
    {
     "name": "stdout",
     "output_type": "stream",
     "text": [
      "25318\n"
     ]
    },
    {
     "data": {
      "text/plain": [
       "int"
      ]
     },
     "execution_count": 25,
     "metadata": {},
     "output_type": "execute_result"
    }
   ],
   "source": [
    "women_recovered = table.filter((col('gender') == 'F') & (col('recovered') == 1)).count()\n",
    "print(women_recovered)\n",
    "type(women_recovered)"
   ]
  },
  {
   "cell_type": "markdown",
   "id": "dcd76a29-5ec8-48aa-957c-b5364f5746e3",
   "metadata": {},
   "source": [
    "### Condition en OR"
   ]
  },
  {
   "cell_type": "code",
   "execution_count": 26,
   "id": "083bc588-73a7-4143-8321-9329be6dcf0e",
   "metadata": {
    "tags": []
   },
   "outputs": [
    {
     "data": {
      "text/plain": [
       "24299"
      ]
     },
     "execution_count": 26,
     "metadata": {},
     "output_type": "execute_result"
    }
   ],
   "source": [
    "state = table.filter((col('state') == 'Bayern') | (col('state') == 'Brandenburg')).count()\n",
    "state"
   ]
  },
  {
   "cell_type": "markdown",
   "id": "1e739d29-c2bc-4b44-95cf-c93af9a6b857",
   "metadata": {},
   "source": [
    "## Le tri (sort, ORDER BY)"
   ]
  },
  {
   "cell_type": "code",
   "execution_count": 27,
   "id": "d5232964-2613-45f0-ab1c-d90d0788adf4",
   "metadata": {
    "tags": []
   },
   "outputs": [
    {
     "name": "stdout",
     "output_type": "stream",
     "text": [
      "+-------------------+--------------------+---------+------+----------+-----+------+---------+\n",
      "|              state|              county|age_group|gender|      date|cases|deaths|recovered|\n",
      "+-------------------+--------------------+---------+------+----------+-----+------+---------+\n",
      "|             Bayern|        LK Starnberg|    35-59|     M|2020-01-28|    1|     0|        1|\n",
      "|             Bayern| LK Landsberg a.Lech|    15-34|     M|2020-01-28|    1|     0|        1|\n",
      "|             Bayern|LK Fuerstenfeldbruck|    15-34|     M|2020-01-29|    1|     0|        1|\n",
      "|             Bayern|         SK Muenchen|    15-34|     F|2020-01-29|    1|     0|        1|\n",
      "|             Bayern|LK Fuerstenfeldbruck|    35-59|     M|2020-01-31|    1|     0|        1|\n",
      "|             Bayern|       LK Traunstein|    35-59|     M|2020-01-31|    1|     0|        1|\n",
      "|             Bayern|       LK Traunstein|    00-04|     F|2020-01-31|    1|     0|        1|\n",
      "|             Bayern|         SK Muenchen|    15-34|     M|2020-02-03|    1|     0|        1|\n",
      "|             Bayern|         LK Muenchen|    35-59|     M|2020-02-04|    1|     0|        1|\n",
      "|      Niedersachsen|      SK Delmenhorst|    35-59|     M|2020-02-04|    1|     0|        1|\n",
      "|             Bayern| LK Landsberg a.Lech|    15-34|     M|2020-02-04|    1|     0|        1|\n",
      "|             Bayern|       LK Traunstein|    00-04|     M|2020-02-04|    1|     0|        1|\n",
      "|             Bayern|       LK Traunstein|    35-59|     F|2020-02-06|    1|     0|        1|\n",
      "|             Bayern|LK Fuerstenfeldbruck|    35-59|     F|2020-02-07|    1|     0|        1|\n",
      "|             Bayern|         SK Muenchen|    35-59|     M|2020-02-11|    1|     0|        1|\n",
      "|             Bayern|        LK Starnberg|    00-04|     M|2020-02-11|    1|     0|        1|\n",
      "|Nordrhein-Westfalen|            SK Koeln|    60-79|     F|2020-02-12|    1|     0|        1|\n",
      "|             Bayern|         LK Freising|    35-59|     F|2020-02-12|    1|     0|        1|\n",
      "|Nordrhein-Westfalen|            SK Koeln|    80-99|     F|2020-02-20|    1|     0|        1|\n",
      "|Nordrhein-Westfalen|            SK Koeln|    80-99|     F|2020-02-22|    1|     0|        1|\n",
      "+-------------------+--------------------+---------+------+----------+-----+------+---------+\n",
      "only showing top 20 rows\n",
      "\n"
     ]
    }
   ],
   "source": [
    "tri = table.sort(col('date').asc(), col('age_group').desc()).show()"
   ]
  },
  {
   "cell_type": "markdown",
   "id": "c51ba46e-3251-4cd5-b3cd-dbeeacf8fdaa",
   "metadata": {},
   "source": [
    "## La limite (LIMIT)"
   ]
  },
  {
   "cell_type": "code",
   "execution_count": 30,
   "id": "81650b4b-f7dd-4672-84b5-b64a3e840477",
   "metadata": {
    "tags": []
   },
   "outputs": [
    {
     "name": "stdout",
     "output_type": "stream",
     "text": [
      "+------------------+------------------+---------+------+----------+-----+------+---------+\n",
      "|             state|            county|age_group|gender|      date|cases|deaths|recovered|\n",
      "+------------------+------------------+---------+------+----------+-----+------+---------+\n",
      "|Baden-Wuerttemberg|LK Alb-Donau-Kreis|    00-04|     F|2020-03-27|    1|     0|        1|\n",
      "|Baden-Wuerttemberg|LK Alb-Donau-Kreis|    00-04|     F|2020-03-28|    1|     0|        1|\n",
      "|Baden-Wuerttemberg|LK Alb-Donau-Kreis|    00-04|     F|2020-04-03|    1|     0|        1|\n",
      "|Baden-Wuerttemberg|LK Alb-Donau-Kreis|    00-04|     M|2020-04-05|    1|     0|        1|\n",
      "|Baden-Wuerttemberg|LK Alb-Donau-Kreis|    00-04|     M|2020-05-18|    1|     0|        1|\n",
      "+------------------+------------------+---------+------+----------+-----+------+---------+\n",
      "\n"
     ]
    }
   ],
   "source": [
    "limite = table.limit(5).show()"
   ]
  },
  {
   "cell_type": "markdown",
   "id": "6698f7a7-fb1a-4caf-9c03-b1ec07b4f64f",
   "metadata": {},
   "source": [
    "## Les aggrégations (GROUP BY)"
   ]
  },
  {
   "cell_type": "code",
   "execution_count": 32,
   "id": "0d309c07-fefe-41a1-bee0-71fe4e94a273",
   "metadata": {
    "tags": []
   },
   "outputs": [
    {
     "name": "stdout",
     "output_type": "stream",
     "text": [
      "+------+-----+\n",
      "|gender|somme|\n",
      "+------+-----+\n",
      "|     F| 4066|\n",
      "|    NA|    5|\n",
      "|     M| 5030|\n",
      "+------+-----+\n",
      "\n"
     ]
    }
   ],
   "source": [
    "deaths_by_gender = table.select('gender', 'deaths') \\\n",
    "                        .groupby('gender') \\\n",
    "                        .agg( \\\n",
    "                             sum(col('deaths')).alias('somme') \\\n",
    "                            ).show()"
   ]
  },
  {
   "cell_type": "markdown",
   "id": "c54ed54e-e328-4de8-8a68-46693fabb941",
   "metadata": {},
   "source": [
    "## Les aggrégations (HAVING)"
   ]
  },
  {
   "cell_type": "code",
   "execution_count": 41,
   "id": "dfe8dcd1-1c6b-4d3b-a3cf-b6bae18b9a7f",
   "metadata": {
    "tags": []
   },
   "outputs": [
    {
     "name": "stdout",
     "output_type": "stream",
     "text": [
      "+------+-----+\n",
      "|gender|somme|\n",
      "+------+-----+\n",
      "|     M| 5030|\n",
      "+------+-----+\n",
      "\n"
     ]
    }
   ],
   "source": [
    "deaths_by_gender_sum_5k = table.select('gender', 'deaths') \\\n",
    "                        .groupby('gender') \\\n",
    "                        .agg( \\\n",
    "                             sum(col('deaths')).alias('somme')) \\\n",
    "                        .where(col('somme') > 5000) #ou .filter à la place de .where\n",
    "                             \n",
    "deaths_by_gender_sum_5k.show()"
   ]
  },
  {
   "cell_type": "markdown",
   "id": "1723ef8c-a71d-4880-9d3a-eb94a0055756",
   "metadata": {},
   "source": [
    "## Ajouter une colonne"
   ]
  },
  {
   "cell_type": "code",
   "execution_count": 42,
   "id": "2adb6cf9-ca21-419a-bf69-dbc8f14466f3",
   "metadata": {
    "tags": []
   },
   "outputs": [
    {
     "name": "stdout",
     "output_type": "stream",
     "text": [
      "+------------------+------------------+---------+------+----------+-----+------+---------+----+\n",
      "|             state|            county|age_group|gender|      date|cases|deaths|recovered| add|\n",
      "+------------------+------------------+---------+------+----------+-----+------+---------+----+\n",
      "|Baden-Wuerttemberg|LK Alb-Donau-Kreis|    00-04|     F|2020-03-27|    1|     0|        1|true|\n",
      "|Baden-Wuerttemberg|LK Alb-Donau-Kreis|    00-04|     F|2020-03-28|    1|     0|        1|true|\n",
      "|Baden-Wuerttemberg|LK Alb-Donau-Kreis|    00-04|     F|2020-04-03|    1|     0|        1|true|\n",
      "|Baden-Wuerttemberg|LK Alb-Donau-Kreis|    00-04|     M|2020-04-05|    1|     0|        1|true|\n",
      "|Baden-Wuerttemberg|LK Alb-Donau-Kreis|    00-04|     M|2020-05-18|    1|     0|        1|true|\n",
      "|Baden-Wuerttemberg|LK Alb-Donau-Kreis|    05-14|     F|2020-03-17|    1|     0|        1|true|\n",
      "|Baden-Wuerttemberg|LK Alb-Donau-Kreis|    05-14|     F|2020-03-25|    1|     0|        1|true|\n",
      "|Baden-Wuerttemberg|LK Alb-Donau-Kreis|    05-14|     F|2020-03-26|    1|     0|        1|true|\n",
      "|Baden-Wuerttemberg|LK Alb-Donau-Kreis|    05-14|     F|2020-03-29|    1|     0|        1|true|\n",
      "|Baden-Wuerttemberg|LK Alb-Donau-Kreis|    05-14|     F|2020-03-31|    1|     0|        1|true|\n",
      "|Baden-Wuerttemberg|LK Alb-Donau-Kreis|    05-14|     F|2020-04-01|    1|     0|        1|true|\n",
      "|Baden-Wuerttemberg|LK Alb-Donau-Kreis|    05-14|     F|2020-04-09|    1|     0|        1|true|\n",
      "|Baden-Wuerttemberg|LK Alb-Donau-Kreis|    05-14|     F|2020-04-17|    1|     0|        1|true|\n",
      "|Baden-Wuerttemberg|LK Alb-Donau-Kreis|    05-14|     F|2020-04-27|    1|     0|        1|true|\n",
      "|Baden-Wuerttemberg|LK Alb-Donau-Kreis|    05-14|     F|2020-05-11|    1|     0|        1|true|\n",
      "|Baden-Wuerttemberg|LK Alb-Donau-Kreis|    05-14|     F|2020-05-23|    1|     0|        1|true|\n",
      "|Baden-Wuerttemberg|LK Alb-Donau-Kreis|    05-14|     M|2020-03-26|    1|     0|        1|true|\n",
      "|Baden-Wuerttemberg|LK Alb-Donau-Kreis|    05-14|     M|2020-03-30|    1|     0|        1|true|\n",
      "|Baden-Wuerttemberg|LK Alb-Donau-Kreis|    05-14|     M|2020-04-01|    2|     0|        2|true|\n",
      "|Baden-Wuerttemberg|LK Alb-Donau-Kreis|    05-14|     M|2020-05-23|    1|     0|        1|true|\n",
      "+------------------+------------------+---------+------+----------+-----+------+---------+----+\n",
      "only showing top 20 rows\n",
      "\n"
     ]
    }
   ],
   "source": [
    "add_column = table.withColumn('add', lit('true')) # lit = permet de créer une constante (colonne) de type string\n",
    "add_column.show()"
   ]
  },
  {
   "cell_type": "code",
   "execution_count": null,
   "id": "bf325c23-edb8-4871-9898-c236002b0517",
   "metadata": {},
   "outputs": [],
   "source": []
  }
 ],
 "metadata": {
  "kernelspec": {
   "display_name": "Python 3 (ipykernel)",
   "language": "python",
   "name": "python3"
  },
  "language_info": {
   "codemirror_mode": {
    "name": "ipython",
    "version": 3
   },
   "file_extension": ".py",
   "mimetype": "text/x-python",
   "name": "python",
   "nbconvert_exporter": "python",
   "pygments_lexer": "ipython3",
   "version": "3.10.11"
  }
 },
 "nbformat": 4,
 "nbformat_minor": 5
}
